{
  "nbformat": 4,
  "nbformat_minor": 0,
  "metadata": {
    "colab": {
      "provenance": [],
      "authorship_tag": "ABX9TyNwPlOI3lMgNLDqRZAmFKr7",
      "include_colab_link": true
    },
    "kernelspec": {
      "name": "python3",
      "display_name": "Python 3"
    },
    "language_info": {
      "name": "python"
    }
  },
  "cells": [
    {
      "cell_type": "markdown",
      "metadata": {
        "id": "view-in-github",
        "colab_type": "text"
      },
      "source": [
        "<a href=\"https://colab.research.google.com/github/codeyumm/adl-midterm-project/blob/main/Group_02_Midterm_Project.ipynb\" target=\"_parent\"><img src=\"https://colab.research.google.com/assets/colab-badge.svg\" alt=\"Open In Colab\"/></a>"
      ]
    },
    {
      "cell_type": "code",
      "execution_count": null,
      "metadata": {
        "id": "K2SPt3PBXpZJ"
      },
      "outputs": [],
      "source": [
        "# libs\n",
        "import numpy as np\n",
        "import torch\n",
        "import torch.nn as nn\n",
        "import torchvision\n",
        "import torchvision.transforms as transforms\n",
        "from torchvision import datasets\n"
      ]
    },
    {
      "cell_type": "code",
      "source": [
        "# get the dataset\n",
        "kmnist = datasets.KMNIST(root=\"./data\", train=True, download=True)"
      ],
      "metadata": {
        "colab": {
          "base_uri": "https://localhost:8080/"
        },
        "id": "JI3ilXzwX32a",
        "outputId": "003e8740-6245-4961-e211-38c5df996fa4"
      },
      "execution_count": null,
      "outputs": [
        {
          "output_type": "stream",
          "name": "stderr",
          "text": [
            "100%|██████████| 18.2M/18.2M [00:11<00:00, 1.59MB/s]\n",
            "100%|██████████| 29.5k/29.5k [00:00<00:00, 328kB/s]\n",
            "100%|██████████| 3.04M/3.04M [00:01<00:00, 2.25MB/s]\n",
            "100%|██████████| 5.12k/5.12k [00:00<00:00, 7.50MB/s]\n"
          ]
        }
      ]
    },
    {
      "cell_type": "code",
      "source": [],
      "metadata": {
        "id": "NL-LIO3YYdTK"
      },
      "execution_count": null,
      "outputs": []
    }
  ]
}