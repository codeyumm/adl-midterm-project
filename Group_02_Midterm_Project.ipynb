{
  "nbformat": 4,
  "nbformat_minor": 0,
  "metadata": {
    "colab": {
      "provenance": [],
      "authorship_tag": "ABX9TyMHob0gNfzO/y3idueNK4dQ",
      "include_colab_link": true
    },
    "kernelspec": {
      "name": "python3",
      "display_name": "Python 3"
    },
    "language_info": {
      "name": "python"
    }
  },
  "cells": [
    {
      "cell_type": "markdown",
      "metadata": {
        "id": "view-in-github",
        "colab_type": "text"
      },
      "source": [
        "<a href=\"https://colab.research.google.com/github/codeyumm/adl-midterm-project/blob/main/Group_02_Midterm_Project.ipynb\" target=\"_parent\"><img src=\"https://colab.research.google.com/assets/colab-badge.svg\" alt=\"Open In Colab\"/></a>"
      ]
    },
    {
      "cell_type": "code",
      "execution_count": 47,
      "metadata": {
        "id": "K2SPt3PBXpZJ"
      },
      "outputs": [],
      "source": [
        "# libs\n",
        "import numpy as np\n",
        "import torch\n",
        "import torch.nn as nn\n",
        "import torchvision\n",
        "import torchvision.transforms as transforms\n",
        "from torchvision import datasets\n",
        "import matplotlib.pyplot as plt\n",
        "from torch.utils.data import DataLoader\n",
        "import torch.optim as optim"
      ]
    },
    {
      "cell_type": "code",
      "source": [
        "# set random seed for reproducibility\n",
        "np.random.seed(66)\n",
        "\n",
        "torch.manual_seed(66)\n",
        "\n",
        "# select deive, CPU or GPU\n",
        "device = torch.device(\"cuda:0\" if torch.cuda.is_available() else \"cpu\")\n",
        "\n",
        "print(\"Using\", device, \"for computation.\")"
      ],
      "metadata": {
        "colab": {
          "base_uri": "https://localhost:8080/"
        },
        "id": "l4qo8USKDAaC",
        "outputId": "847141a7-67ab-4287-e4e9-e4ae8657be06"
      },
      "execution_count": 37,
      "outputs": [
        {
          "output_type": "stream",
          "name": "stdout",
          "text": [
            "Using cpu for computation.\n"
          ]
        }
      ]
    },
    {
      "cell_type": "code",
      "source": [
        "# get the dataset\n",
        "train_data = datasets.KMNIST(root=\"./data\", train=True, download=True)"
      ],
      "metadata": {
        "colab": {
          "base_uri": "https://localhost:8080/"
        },
        "id": "JI3ilXzwX32a",
        "outputId": "6137c94c-18d9-436a-83c5-36d9f6f9465f"
      },
      "execution_count": 3,
      "outputs": [
        {
          "output_type": "stream",
          "name": "stderr",
          "text": [
            "100%|██████████| 18.2M/18.2M [00:05<00:00, 3.23MB/s]\n",
            "100%|██████████| 29.5k/29.5k [00:00<00:00, 768kB/s]\n",
            "100%|██████████| 3.04M/3.04M [00:00<00:00, 5.03MB/s]\n",
            "100%|██████████| 5.12k/5.12k [00:00<00:00, 6.62MB/s]\n"
          ]
        }
      ]
    },
    {
      "cell_type": "markdown",
      "source": [
        "### Observing the dataset"
      ],
      "metadata": {
        "id": "bCtC_u_Euati"
      }
    },
    {
      "cell_type": "code",
      "source": [
        "# shape of dataset\n",
        "print(f\"Number of training samples : {len(train_data)}\")"
      ],
      "metadata": {
        "id": "NL-LIO3YYdTK",
        "colab": {
          "base_uri": "https://localhost:8080/"
        },
        "outputId": "b262ec7e-01a3-430e-d331-8102c12a2ef1"
      },
      "execution_count": 9,
      "outputs": [
        {
          "output_type": "stream",
          "name": "stdout",
          "text": [
            "Number of training samples : 60000\n"
          ]
        }
      ]
    },
    {
      "cell_type": "code",
      "source": [
        "# display sample image from the test dataset\n",
        "image, label = train_data[6]\n",
        "\n",
        "# size of image\n",
        "print(f\"Size of image is : {image.size}\")"
      ],
      "metadata": {
        "colab": {
          "base_uri": "https://localhost:8080/"
        },
        "id": "FxUKdI_pudHp",
        "outputId": "2d8f6630-f974-4b49-9084-5066d8c232ae"
      },
      "execution_count": 21,
      "outputs": [
        {
          "output_type": "stream",
          "name": "stdout",
          "text": [
            "Size of image is : (28, 28)\n"
          ]
        }
      ]
    },
    {
      "cell_type": "markdown",
      "source": [
        "### We can see that we have 28 x 28 image and it is a grayscale as there is only one color channel"
      ],
      "metadata": {
        "id": "a0mT7YXYvKWq"
      }
    },
    {
      "cell_type": "code",
      "source": [
        "# sample image\n",
        "plt.imshow(image, cmap='gray')\n",
        "plt.title(f\"Label: {label}\")\n",
        "plt.show()"
      ],
      "metadata": {
        "colab": {
          "base_uri": "https://localhost:8080/",
          "height": 452
        },
        "id": "40XjpI1Pu7KZ",
        "outputId": "60c02a94-c1d3-44e0-ee95-8aa18a014df4"
      },
      "execution_count": 19,
      "outputs": [
        {
          "output_type": "display_data",
          "data": {
            "text/plain": [
              "<Figure size 640x480 with 1 Axes>"
            ],
            "image/png": "[encoded data removed]"
          },
          "metadata": {}
        }
      ]
    },
    {
      "cell_type": "markdown",
      "source": [
        "### Now we need to normalize the dataset for better computation and also we need to convert it to tensors becasue our deep learning models works with tensors"
      ],
      "metadata": {
        "id": "e9LAK1hhv1kh"
      }
    },
    {
      "cell_type": "code",
      "source": [
        "# load the dataset\n",
        "train_data = datasets.KMNIST(root=\"./data\", train=True, download=True, transform=transforms.ToTensor())\n",
        "\n",
        "\n",
        "data_loader = torch.utils.data.DataLoader(train_data, batch_size=len(train_data), shuffle=False)\n",
        "\n",
        "# get all pixel values\n",
        "data = next(iter(data_loader))[0]\n",
        "mean = data.mean()\n",
        "std = data.std()\n",
        "\n",
        "print(f\"Mean of train dataset : {mean}\")\n",
        "print(f\"STD of train dataset : {std}\")\n"
      ],
      "metadata": {
        "colab": {
          "base_uri": "https://localhost:8080/"
        },
        "id": "pGC8X3r0v0s6",
        "outputId": "2864302d-31ba-4a69-b69c-eecbdccd832d"
      },
      "execution_count": 22,
      "outputs": [
        {
          "output_type": "stream",
          "name": "stdout",
          "text": [
            "Mean of train dataset : 0.19176216423511505\n",
            "STD of train dataset : 0.3483428359031677\n"
          ]
        }
      ]
    },
    {
      "cell_type": "code",
      "source": [
        "# transforms object\n",
        "transform = transforms.Compose([\n",
        "    transforms.ToTensor(),\n",
        "    transforms.Normalize((mean,), (std,))\n",
        "])\n",
        "\n",
        "# load the dataset with transforms object to get the normalize data\n",
        "\n",
        "train_data = datasets.KMNIST(root=\"./data\", train=True, download=True, transform=transform)\n",
        "test_data = datasets.KMNIST(root=\"./data\", train=False, download=True, transform=transform)\n",
        "\n",
        "\n",
        "# shape of dataset\n",
        "print(f\"Number of training samples : {len(train_data)}\")\n",
        "print(f\"Number of testing samples : {len(test_data)}\")"
      ],
      "metadata": {
        "colab": {
          "base_uri": "https://localhost:8080/"
        },
        "id": "_ZlJbQhiu7yK",
        "outputId": "5f08d178-47a9-478d-a316-8df9b4685150"
      },
      "execution_count": 24,
      "outputs": [
        {
          "output_type": "stream",
          "name": "stdout",
          "text": [
            "Number of training samples : 60000\n",
            "Number of testing samples : 10000\n"
          ]
        }
      ]
    },
    {
      "cell_type": "markdown",
      "source": [
        "### At this point, our input is standardize in terms of we have normalized it wiht mean and std. Now all the pixels are in range of [-1, 1] and most of them should be centerd around 0"
      ],
      "metadata": {
        "id": "57pbuLBj0JJG"
      }
    },
    {
      "cell_type": "markdown",
      "source": [
        "### Defining the model architecture"
      ],
      "metadata": {
        "id": "89UhjVks12jE"
      }
    },
    {
      "cell_type": "code",
      "source": [
        "# model network\n",
        "\n",
        "class Kmnist_Net(nn.Module):\n",
        "  def __init__(self):\n",
        "    super(Kmnist_Net, self).__init__()\n",
        "\n",
        "    # convert 2d (28 * 28) to 1d 784)\n",
        "\n",
        "    self.flatten = nn.Flatten()\n",
        "\n",
        "    # first fully connected layer input(784) to hidden 1 (128)\n",
        "    self.fc1 = nn.Linear(784, 128)\n",
        "\n",
        "    # second fully connected layer input(128) to hidden 2 (64)\n",
        "    self.fc2 = nn.Linear(128, 64)\n",
        "\n",
        "    # third fully connected layer input(64) to output (10)\n",
        "    self.fc3 = nn.Linear(64, 10)\n",
        "\n",
        "    # activation function - for hidden layers - ReLu\n",
        "    self.relu = nn.ReLU()\n",
        "\n",
        "    # activation fucntion - for output layer - SoftMax\n",
        "\n",
        "    # self.soft_max = nn.Softmax()\n",
        "    # we dont need to add this here because crossentropyloss,\n",
        "    # expects raw logits as input and it applies logsoftmax\n",
        "\n",
        "\n",
        "  # forward pass\n",
        "  def forward(self, input):\n",
        "\n",
        "    # 2d to 1d\n",
        "    x = self.flatten(input)\n",
        "\n",
        "    # pass it to fc1 with ReLu activation\n",
        "    x = self.fc1(x)\n",
        "    x = self.relu(x)\n",
        "\n",
        "    # pass it to fc2 with ReLu activation\n",
        "    x = self.fc2(x)\n",
        "    x = self.relu(x)\n",
        "\n",
        "    # pass it to fc3 with Softmax activation\n",
        "    x = self.fc3(x)\n",
        "    # x = self.soft_max(x)\n",
        "\n",
        "    return x\n",
        "\n",
        "\n",
        "\n",
        "\n",
        "\n",
        "\n"
      ],
      "metadata": {
        "id": "dXB1JKAo12WN"
      },
      "execution_count": 26,
      "outputs": []
    },
    {
      "cell_type": "markdown",
      "source": [
        "### In above model we are not adding softmax activation function becasue, CrossEntropyLoss computes the cross entropy loss between input logits and target and it also applies  LogSoftmax internally\n",
        "\n",
        "### Source - [CrossEntropyLoss](https://docs.pytorch.org/docs/stable/generated/torch.nn.CrossEntropyLoss.html#torch.nn.CrossEntropyLoss)"
      ],
      "metadata": {
        "id": "KuqRdFKF88kO"
      }
    },
    {
      "cell_type": "markdown",
      "source": [
        "### Defining Inital Hyperparameters"
      ],
      "metadata": {
        "id": "YMbvkfAl_IXb"
      }
    },
    {
      "cell_type": "code",
      "source": [
        "# how fast we want to move on gradient to find minima\n",
        "learning_rate = 0.001\n",
        "\n",
        "# number of time we want to go thorugh whole dataset\n",
        "epochs = 50\n",
        "\n",
        "# number of samples the model sees before updating weights\n",
        "batch_size = 64\n",
        "\n",
        "# define loss function - CrossEntropyLoss()\n",
        "loss_function = nn.CrossEntropyLoss()"
      ],
      "metadata": {
        "id": "nIbk9R9O9ptb"
      },
      "execution_count": 28,
      "outputs": []
    },
    {
      "cell_type": "code",
      "source": [
        "# data loader object to get data into batch\n",
        "# shuffle True for tranloader becasue it prevents model to remeber the pattern of data\n",
        "train_loader = DataLoader(train_data, batch_size = batch_size, shuffle=True)\n",
        "\n",
        "test_loader = DataLoader(test_data, batch_size= 1000, shuffle=False)"
      ],
      "metadata": {
        "id": "hXUPtiriBdTA"
      },
      "execution_count": 30,
      "outputs": []
    },
    {
      "cell_type": "markdown",
      "source": [
        "### Traning Loooooop"
      ],
      "metadata": {
        "id": "VrV1qKI4BQiu"
      }
    },
    {
      "cell_type": "code",
      "source": [
        "def train(loss_function, optimizer = None):\n",
        "\n",
        "  # move model to gpu\n",
        "  model = Kmnist_Net().to(device)\n",
        "\n",
        "  # set model to train\n",
        "  model.train()\n",
        "\n",
        "\n",
        "\n",
        "  for epoch in range(epochs):\n",
        "\n",
        "    running_loss = 0\n",
        "    correct = 0\n",
        "    total = 0\n",
        "\n",
        "    for images, labels in train_loader:\n",
        "\n",
        "      images = images.to(device)\n",
        "      labels = labels.to(device)\n",
        "\n",
        "      optimizer.zero_grad()\n",
        "\n",
        "      # get the output\n",
        "      output = model(images)\n",
        "\n",
        "      # find the loss\n",
        "      loss = loss_function(output, labels)\n",
        "\n",
        "      # backpropogate to find optimal weights\n",
        "      loss.backward()\n",
        "\n",
        "      # update weight\n",
        "      optimizer.step()\n",
        "\n",
        "      # calculate the loss\n",
        "      running_loss += loss.item()\n",
        "\n",
        "      # find correct output\n",
        "      _, predicted = torch.max(output, 1)\n",
        "\n",
        "      correct += (predicted == labels).sum().item()\n",
        "\n",
        "      # total images seen by model\n",
        "      total += labels.size(0)\n",
        "\n",
        "    train_acc = ( correct / total ) * 100\n",
        "    print(f\"Epoch [{epoch + 1}/{epochs}], Loss: {running_loss:.4f},  Train Accuracy : {train_acc:.2f}%\")\n",
        "\n"
      ],
      "metadata": {
        "id": "Yy9XwrFmAlIk"
      },
      "execution_count": 52,
      "outputs": []
    },
    {
      "cell_type": "markdown",
      "source": [
        "### Evaluation Loop"
      ],
      "metadata": {
        "id": "rZBzxjIsKVf0"
      }
    },
    {
      "cell_type": "code",
      "source": [
        "def Evaluate(model):\n",
        "\n",
        "  correct = 0\n",
        "  total = 0\n",
        "\n",
        "  # set model to eval mode\n",
        "  model.eval()\n",
        "\n",
        "  # disavle gradient calculations\n",
        "  torch.no_grad()\n",
        "  with torch.no_grad():\n",
        "    for images, labels in test_loader:\n",
        "\n",
        "        images = images.to(device)\n",
        "        labels = labels.to(device)\n",
        "\n",
        "        # get the output\n",
        "        output = model(images)\n",
        "\n",
        "        # get the predicted labels\n",
        "        _, predicted = torch.max(output, 1)\n",
        "\n",
        "        # total number of images\n",
        "        total += labels.size(0)\n",
        "\n",
        "        # count correct predictions\n",
        "        correct += (predicted == labels).sum().item()\n",
        "\n",
        "\n",
        "  test_accuracy = 100 * (correct / total)\n",
        "  print(f\"Test Accuracy: {test_accuracy:.2f}%\")\n",
        "\n",
        "\n",
        "\n",
        "\n",
        "\n"
      ],
      "metadata": {
        "id": "Qt_jpk2WGITw"
      },
      "execution_count": 53,
      "outputs": []
    },
    {
      "cell_type": "code",
      "source": [],
      "metadata": {
        "id": "9iizq6SJLMS9"
      },
      "execution_count": null,
      "outputs": []
    }
  ]
}